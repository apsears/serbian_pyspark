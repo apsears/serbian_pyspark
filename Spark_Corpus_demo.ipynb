{
 "cells": [
  {
   "cell_type": "markdown",
   "id": "f98c2785",
   "metadata": {},
   "source": [
    "# Sentence Mining in a Serbian Corpus"
   ]
  },
  {
   "cell_type": "markdown",
   "id": "2518dc5e",
   "metadata": {},
   "source": [
    "Demonstration of how pyspark can load streaming xml data, lightly parse, and filter results. \n",
    "\n",
    "We produce examples of the possessive prounouns of Serbian for several cases, allowing students to study all forms of their declension."
   ]
  },
  {
   "cell_type": "code",
   "execution_count": 1,
   "id": "981c5844",
   "metadata": {},
   "outputs": [],
   "source": [
    "import pyspark\n",
    "from pyspark.sql.types import StringType\n",
    "import time\n",
    "from itertools import islice\n",
    "from tqdm.notebook import tqdm\n",
    "import numpy as np\n",
    "import codecs\n",
    "import glob"
   ]
  },
  {
   "cell_type": "markdown",
   "id": "b4963a92",
   "metadata": {},
   "source": [
    "The first 100,000 lines of the corpus are included in this repo (License: CC BY-SA 4.0)\n",
    "\n",
    "Download additional data from https://www.clarin.si/repository/xmlui/handle/11356/1063\n",
    "\n",
    "If you do, then to speed things up, you can turn off processing of the entire multigigabyte corpus and instead just look at the first 100,000 lines with the following flag:"
   ]
  },
  {
   "cell_type": "code",
   "execution_count": 2,
   "id": "6c0e43a0",
   "metadata": {},
   "outputs": [],
   "source": [
    "PROCESS_ENTIRE_CORPUS = True"
   ]
  },
  {
   "cell_type": "code",
   "execution_count": 3,
   "id": "c9bec9da",
   "metadata": {},
   "outputs": [
    {
     "name": "stdout",
     "output_type": "stream",
     "text": [
      "['data/srWaC1.1.01.xml']\n"
     ]
    }
   ],
   "source": [
    "corpus_files = glob.glob('data/srWaC*.xml'); print(corpus_files)\n",
    "\n",
    "# Settings for processing smaller chunk of data\n",
    "num_of_th = 48; repartition_size = num_of_th*4\n",
    "chunk_size = 100000\n",
    "\n",
    "MAX_WORDS_IN_SENTENCE = 6"
   ]
  },
  {
   "cell_type": "markdown",
   "id": "15e15076",
   "metadata": {},
   "source": [
    "Start the pyspark cluster (locally)"
   ]
  },
  {
   "cell_type": "code",
   "execution_count": 4,
   "id": "01173436",
   "metadata": {},
   "outputs": [
    {
     "name": "stderr",
     "output_type": "stream",
     "text": [
      "22/04/02 13:54:59 WARN Utils: Your hostname, MacBook-Pro.local resolves to a loopback address: 127.0.0.1; using 192.168.0.102 instead (on interface en0)\n",
      "22/04/02 13:54:59 WARN Utils: Set SPARK_LOCAL_IP if you need to bind to another address\n",
      "WARNING: An illegal reflective access operation has occurred\n",
      "WARNING: Illegal reflective access by org.apache.spark.unsafe.Platform (file:/usr/local/lib/python3.9/site-packages/pyspark/jars/spark-unsafe_2.12-3.2.1.jar) to constructor java.nio.DirectByteBuffer(long,int)\n",
      "WARNING: Please consider reporting this to the maintainers of org.apache.spark.unsafe.Platform\n",
      "WARNING: Use --illegal-access=warn to enable warnings of further illegal reflective access operations\n",
      "WARNING: All illegal access operations will be denied in a future release\n",
      "Using Spark's default log4j profile: org/apache/spark/log4j-defaults.properties\n",
      "Setting default log level to \"WARN\".\n",
      "To adjust logging level use sc.setLogLevel(newLevel). For SparkR, use setLogLevel(newLevel).\n",
      "22/04/02 13:54:59 WARN NativeCodeLoader: Unable to load native-hadoop library for your platform... using builtin-java classes where applicable\n"
     ]
    }
   ],
   "source": [
    "from pyspark.sql import SparkSession\n",
    "from pyspark import SparkContext\n",
    "\n",
    "\n",
    "sc = SparkContext(master = \"local[20]\").getOrCreate()\n",
    "spark = SparkSession(sc)"
   ]
  },
  {
   "cell_type": "markdown",
   "id": "3899c41b",
   "metadata": {},
   "source": [
    "Create the rdd"
   ]
  },
  {
   "cell_type": "code",
   "execution_count": null,
   "id": "11a1605b",
   "metadata": {},
   "outputs": [],
   "source": [
    "%%time\n",
    "if PROCESS_ENTIRE_CORPUS:\n",
    "    small_chunk = False\n",
    "    file_rdd = spark.read.text(corpus_files, wholetext=False)\n",
    "else:\n",
    "    small_chunk = True\n",
    "    file_rdd = spark.read.text(corpus_files[0], wholetext=False)\n",
    "    file_chunk = file_rdd.take(chunk_size) \n",
    "    file_rdd = sc.parallelize(file_chunk) "
   ]
  },
  {
   "cell_type": "code",
   "execution_count": null,
   "id": "6c43fc10",
   "metadata": {},
   "outputs": [],
   "source": [
    "# Parses the xml stream to accumulate lines corresponding to the same sentence\n",
    "def quickparse(part, max_len=None):\n",
    "    \n",
    "    state = None\n",
    "    accumulator = []\n",
    "    readlines = 0\n",
    "    \n",
    "    for line in part:\n",
    "        line = line['value']\n",
    "        \n",
    "        readlines +=1\n",
    "        \n",
    "        if line == '<s>':\n",
    "            state = '<s>'\n",
    "            accumulator = []\n",
    "            continue\n",
    "        if line == '</s>':\n",
    "            state = '</s>'\n",
    "            if len(accumulator) < 3: continue #  or len(accumulator) > 6: continue\n",
    "            tr = ['|'.join(_) for _ in np.array(accumulator).T]\n",
    "            yield tr\n",
    "        if state == \"<s>\" and line != '<g/>':\n",
    "            accumulator.append(line.split('\\t'))\n",
    "            if max_len is not None and len(accumulator) >= max_len: state = None"
   ]
  },
  {
   "cell_type": "markdown",
   "id": "c5109a1e",
   "metadata": {},
   "source": [
    "Create a dataframe with columns for the different word forms: text, reformat, lemma, and language properties. Display the first 10 which have at least one possessive pronoun in it."
   ]
  },
  {
   "cell_type": "code",
   "execution_count": null,
   "id": "55b3ee40",
   "metadata": {},
   "outputs": [],
   "source": [
    "if small_chunk:\n",
    "    df = file_rdd.mapPartitions(lambda x: quickparse(x, max_len=MAX_WORDS_IN_SENTENCE)).toDF(['text','reformat', 'lemma', 'feats'])\n",
    "else:\n",
    "    df = file_rdd.rdd.mapPartitions(lambda x: quickparse(x, max_len=MAX_WORDS_IN_SENTENCE)).toDF(['text','reformat', 'lemma', 'feats'])\n",
    "\n",
    "\n",
    "df1 = df.filter(df['feats'].rlike(r'Ps\\w\\w\\w[n|a]')).cache()\n",
    "\n",
    "\n",
    "df1.show(10)"
   ]
  },
  {
   "cell_type": "markdown",
   "id": "5ea9bfb2",
   "metadata": {},
   "source": [
    "## Sentence Generation"
   ]
  },
  {
   "cell_type": "markdown",
   "id": "d66b402d",
   "metadata": {},
   "source": [
    "We want to collect many sentences for language practice. Let's enumerate the different cases and genders we want to consider. We will also filter the sentences for known bad words."
   ]
  },
  {
   "cell_type": "code",
   "execution_count": null,
   "id": "0d8e6524",
   "metadata": {},
   "outputs": [],
   "source": [
    "bad_words_rot13 = ['cravf', 'xhenp', 'wrongv', 'cvčxn', 'xyvgbevf', 'oenqnivpn', 'qbwxr', 'oybiwbo', 'fabšnw', 'bqwrovgv', 'hzhxavgv']\n",
    "bad_words = [codecs.decode(_, 'rot13') for _ in bad_words_rot13]"
   ]
  },
  {
   "cell_type": "code",
   "execution_count": null,
   "id": "60ba9229",
   "metadata": {},
   "outputs": [],
   "source": [
    "property_filters = [\n",
    "    {'lemma':'njen', 'Case':'Acc', 'Gender':'Masc', 'Number':'Sing'},\n",
    "    {'lemma':'njen', 'Case':'Acc', 'Gender':'Neut', 'Number':'Sing'},\n",
    "    {'lemma':'njen', 'Case':'Acc', 'Gender':'Fem', 'Number':'Sing'},\n",
    "    {'lemma':'njen', 'Case':'Nom', 'Gender':'Masc', 'Number':'Sing'},\n",
    "    {'lemma':'njen', 'Case':'Nom', 'Gender':'Neut', 'Number':'Sing'},\n",
    "    {'lemma':'njen', 'Case':'Nom', 'Gender':'Fem', 'Number':'Sing'},\n",
    "    \n",
    "    {'lemma':'moj', 'Case':'Acc', 'Gender':'Masc', 'Number':'Sing'},\n",
    "    {'lemma':'moj', 'Case':'Acc', 'Gender':'Neut', 'Number':'Sing'},\n",
    "    {'lemma':'moj', 'Case':'Acc', 'Gender':'Fem', 'Number':'Sing'},\n",
    "    {'lemma':'moj', 'Case':'Nom', 'Gender':'Masc', 'Number':'Sing'},\n",
    "    {'lemma':'moj', 'Case':'Nom', 'Gender':'Neut', 'Number':'Sing'},\n",
    "    {'lemma':'moj', 'Case':'Nom', 'Gender':'Fem', 'Number':'Sing'},\n",
    "    \n",
    "    {'lemma':'tvoj', 'Case':'Acc', 'Gender':'Masc', 'Number':'Sing'},\n",
    "    {'lemma':'tvoj', 'Case':'Acc', 'Gender':'Neut', 'Number':'Sing'},\n",
    "    {'lemma':'tvoj', 'Case':'Acc', 'Gender':'Fem', 'Number':'Sing'},\n",
    "    {'lemma':'tvoj', 'Case':'Nom', 'Gender':'Masc', 'Number':'Sing'},\n",
    "    {'lemma':'tvoj', 'Case':'Nom', 'Gender':'Neut', 'Number':'Sing'},\n",
    "    {'lemma':'tvoj', 'Case':'Nom', 'Gender':'Fem', 'Number':'Sing'},\n",
    "    \n",
    "    {'lemma':'njegov', 'Case':'Acc', 'Gender':'Masc', 'Number':'Sing'},\n",
    "    {'lemma':'njegov', 'Case':'Acc', 'Gender':'Neut', 'Number':'Sing'},\n",
    "    {'lemma':'njegov', 'Case':'Acc', 'Gender':'Fem', 'Number':'Sing'},\n",
    "    {'lemma':'njegov', 'Case':'Nom', 'Gender':'Masc', 'Number':'Sing'},\n",
    "    {'lemma':'njegov', 'Case':'Nom', 'Gender':'Neut', 'Number':'Sing'},\n",
    "    {'lemma':'njegov', 'Case':'Nom', 'Gender':'Fem', 'Number':'Sing'},\n",
    "    \n",
    "    {'lemma':'naš', 'Case':'Acc', 'Gender':'Masc', 'Number':'Sing'},\n",
    "    {'lemma':'naš', 'Case':'Acc', 'Gender':'Neut', 'Number':'Sing'},\n",
    "    {'lemma':'naš', 'Case':'Acc', 'Gender':'Fem', 'Number':'Sing'},\n",
    "    {'lemma':'naš', 'Case':'Nom', 'Gender':'Masc', 'Number':'Sing'},\n",
    "    {'lemma':'naš', 'Case':'Nom', 'Gender':'Neut', 'Number':'Sing'},\n",
    "    {'lemma':'naš', 'Case':'Nom', 'Gender':'Fem', 'Number':'Sing'},\n",
    "\n",
    "    {'lemma':'vaš', 'Case':'Acc', 'Gender':'Masc', 'Number':'Sing'},\n",
    "    {'lemma':'vaš', 'Case':'Acc', 'Gender':'Neut', 'Number':'Sing'},\n",
    "    {'lemma':'vaš', 'Case':'Acc', 'Gender':'Fem', 'Number':'Sing'},\n",
    "    {'lemma':'vaš', 'Case':'Nom', 'Gender':'Masc', 'Number':'Sing'},\n",
    "    {'lemma':'vaš', 'Case':'Nom', 'Gender':'Neut', 'Number':'Sing'},\n",
    "    {'lemma':'vaš', 'Case':'Nom', 'Gender':'Fem', 'Number':'Sing'},\n",
    "    \n",
    "    {'lemma':'njihov', 'Case':'Acc', 'Gender':'Masc', 'Number':'Sing'},\n",
    "    {'lemma':'njihov', 'Case':'Acc', 'Gender':'Neut', 'Number':'Sing'},\n",
    "    {'lemma':'njihov', 'Case':'Acc', 'Gender':'Fem', 'Number':'Sing'},\n",
    "    {'lemma':'njihov', 'Case':'Nom', 'Gender':'Masc', 'Number':'Sing'},\n",
    "    {'lemma':'njihov', 'Case':'Nom', 'Gender':'Neut', 'Number':'Sing'},\n",
    "    {'lemma':'njihov', 'Case':'Nom', 'Gender':'Fem', 'Number':'Sing'},\n",
    "]"
   ]
  },
  {
   "cell_type": "code",
   "execution_count": null,
   "id": "e355c8a6",
   "metadata": {},
   "outputs": [],
   "source": [
    "# pretty printing of the metadata for a word record\n",
    "def pprint(x):\n",
    "    text = x['text'].split('|')\n",
    "    feat = x['feats'].split('|')\n",
    "    output = text[0]\n",
    "    for t,f in zip(text[1:],feat[1:]):\n",
    "        if f != 'Z': \n",
    "            output += ' ' + t\n",
    "        else:\n",
    "            output += t\n",
    "            \n",
    "    return output"
   ]
  },
  {
   "cell_type": "code",
   "execution_count": null,
   "id": "e2f74287",
   "metadata": {},
   "outputs": [],
   "source": [
    "%%time \n",
    "\n",
    "TO_MINE = 20 # return at most this number of sentences\n",
    "\n",
    "pbar = tqdm(property_filters)\n",
    "for pf in pbar:\n",
    "    print(pf)\n",
    "    lemma = pf['lemma']\n",
    "    case = pf['Case'][0].lower()\n",
    "    gender = pf['Gender'][0].lower()\n",
    "    number = pf['Number'][0].lower()\n",
    "    ffeat = r'Ps' + r'\\w' + gender + number + case \n",
    "    \n",
    "    df2 = df1.filter(df1['feats'].rlike(ffeat))\n",
    "    df3 = df2.filter(df2['lemma'].rlike(lemma))\n",
    "    \n",
    "    taken =  df3.take(TO_MINE)\n",
    "    for _ in list(set(taken)):\n",
    "        disallowed = np.any([b in _['lemma'] for b in bad_words])\n",
    "        if not disallowed:\n",
    "            print('\\t',pprint(_))\n",
    "            pass\n",
    "        else: \n",
    "            pass\n",
    "            print('bad words found!', pprint(_))    "
   ]
  },
  {
   "cell_type": "markdown",
   "id": "8a1f414b",
   "metadata": {},
   "source": [
    "Not every case/gender/number is present in the first 100,000 lines."
   ]
  },
  {
   "cell_type": "code",
   "execution_count": null,
   "id": "2641a59a",
   "metadata": {},
   "outputs": [],
   "source": []
  }
 ],
 "metadata": {
  "kernelspec": {
   "display_name": "Python 3 (ipykernel)",
   "language": "python",
   "name": "python3"
  },
  "language_info": {
   "codemirror_mode": {
    "name": "ipython",
    "version": 3
   },
   "file_extension": ".py",
   "mimetype": "text/x-python",
   "name": "python",
   "nbconvert_exporter": "python",
   "pygments_lexer": "ipython3",
   "version": "3.9.10"
  }
 },
 "nbformat": 4,
 "nbformat_minor": 5
}
